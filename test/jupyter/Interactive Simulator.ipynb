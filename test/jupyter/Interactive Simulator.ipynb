{
 "cells": [
  {
   "cell_type": "markdown",
   "id": "e9e77051",
   "metadata": {},
   "source": [
    "# Interactive Simulation in a Jupyter Notebook\n",
    "This is a demonstration of how an **punxa** could be used in class to do exercises on RISC-V assembly code execution \n",
    "\n",
    "## Exercise:\n",
    "\n",
    "Create a RISC-V (RV32I) program in assembly to compute the factorial of a number.\n",
    "\n",
    "Place the input value in address 0x80.\n",
    "\n",
    "The output value should be store in addres 0x90.\n",
    "\n",
    "The application must end with an inifite loop ('J 0' pseudo-instruction). Run you program step-by-step until it gets to the final instruction.\n"
   ]
  },
  {
   "cell_type": "code",
   "execution_count": 6,
   "id": "681480eb",
   "metadata": {},
   "outputs": [
    {
     "name": "stdout",
     "output_type": "stream",
     "text": [
      "Not running in Google Colab. Skipping installation of punxa.\n"
     ]
    }
   ],
   "source": [
    "import sys\n",
    "\n",
    "if 'google.colab' in sys.modules:\n",
    "    print(\"Running in Google Colab. Installing punxa...\")\n",
    "    !pip install git+https://github.com/davidcastells/punxa.git\n",
    "else:\n",
    "    print(\"Not running in Google Colab. Skipping installation of punxa.\")"
   ]
  },
  {
   "cell_type": "code",
   "execution_count": 1,
   "id": "f4f39571",
   "metadata": {},
   "outputs": [],
   "source": [
    "import punxa.jupyter as js\n",
    "from punxa.interactive_commands import *\n",
    "import math"
   ]
  },
  {
   "cell_type": "markdown",
   "id": "7d7e2099",
   "metadata": {},
   "source": [
    "## Coding in Assembly\n",
    "Students should create a program in assembly, below you can find a possible solution"
   ]
  },
  {
   "cell_type": "code",
   "execution_count": 2,
   "id": "515b8744",
   "metadata": {},
   "outputs": [],
   "source": [
    "program = '''\n",
    "lui     a0, 0x00000       \n",
    "lw      a0, 0x80(a0)      \n",
    "\n",
    "li      a2, 1             \n",
    "    \n",
    "beq     a0, zero, 8       \n",
    "\n",
    "mv      a1, a0            \n",
    "    \n",
    "mul     a2, a2, a1        \n",
    "addi    a1, a1, -1        \n",
    "bne     a1, zero, -8      \n",
    "\n",
    "lui     a1, 0x00000       \n",
    "sw      a2, 0x90(a1)      \n",
    "\n",
    "j       0                 \n",
    "'''    "
   ]
  },
  {
   "cell_type": "markdown",
   "id": "b9e86b80",
   "metadata": {},
   "source": [
    "## Initialization \n",
    "We build the hardware model for the Processor + Memory and load the program in main memory at address 0.\n",
    "\n",
    "As required by the exercise description, we write the input value in memory position 0x80"
   ]
  },
  {
   "cell_type": "code",
   "execution_count": 3,
   "id": "389fc301",
   "metadata": {},
   "outputs": [
    {
     "name": "stdout",
     "output_type": "stream",
     "text": [
      "MEM WIDTH 32\n"
     ]
    }
   ],
   "source": [
    "js.buildHw()\n",
    "js.load_assembly_text(program)\n",
    "js.mem.write_i32(0x80, 6)"
   ]
  },
  {
   "cell_type": "markdown",
   "id": "1b80113d",
   "metadata": {},
   "source": [
    "## Verification\n",
    "We run step-by-step looking at how the register values change until we get to the final instruction.\n",
    "\n",
    "We can see a log of the execution below the GUI."
   ]
  },
  {
   "cell_type": "code",
   "execution_count": 4,
   "id": "7af8946d",
   "metadata": {},
   "outputs": [
    {
     "data": {
      "application/vnd.jupyter.widget-view+json": {
       "model_id": "31688ad92e0e4bf282202129e1ab3df5",
       "version_major": 2,
       "version_minor": 0
      },
      "text/plain": [
       "HTML(value='<h2>RISC-V Simulator Interface</h2>')"
      ]
     },
     "metadata": {},
     "output_type": "display_data"
    },
    {
     "data": {
      "application/vnd.jupyter.widget-view+json": {
       "model_id": "8268579a436543609ea66891684a82ea",
       "version_major": 2,
       "version_minor": 0
      },
      "text/plain": [
       "HBox(children=(Button(button_style='info', description='Reset', style=ButtonStyle()), Button(button_style='inf…"
      ]
     },
     "metadata": {},
     "output_type": "display_data"
    },
    {
     "data": {
      "application/vnd.jupyter.widget-view+json": {
       "model_id": "8f2bdc4b62d64acaa474fd41c740a4cc",
       "version_major": 2,
       "version_minor": 0
      },
      "text/plain": [
       "HBox(children=(VBox(children=(Select(description='Instructions:', layout=Layout(width='400px'), options=('0000…"
      ]
     },
     "metadata": {},
     "output_type": "display_data"
    },
    {
     "name": "stdout",
     "output_type": "stream",
     "text": [
      "00000000: 00000537     LUI r10 = 00000000 \n",
      "00000004: 08052503     LW r10 = [r10 + 128] -> [0000000000000080]=00000006\n",
      "00000008: 00100613     ADDI r12 = r0 + 1 -> 00000001\n",
      "0000000C: 00050463     BEQ r10 == r0 ? -> 00000014 False\n",
      "00000010: 00050593     ADDI r11 = r10 + 0 -> 00000006\n",
      "00000014: 02B60633     MUL r12 = r12 * r11 -> 00000006\n",
      "00000018: FFF58593     ADDI r11 = r11 + -1 -> 00000005\n",
      "0000001C: FE059CE3     BNE r11 != r0 ? True 00000014\n",
      "00000014: 02B60633     MUL r12 = r12 * r11 -> 0000001E\n",
      "00000018: FFF58593     ADDI r11 = r11 + -1 -> 00000004\n",
      "0000001C: FE059CE3     BNE r11 != r0 ? True 00000014\n",
      "00000014: 02B60633     MUL r12 = r12 * r11 -> 00000078\n",
      "00000018: FFF58593     ADDI r11 = r11 + -1 -> 00000003\n",
      "0000001C: FE059CE3     BNE r11 != r0 ? True 00000014\n",
      "00000014: 02B60633     MUL r12 = r12 * r11 -> 00000168\n",
      "00000018: FFF58593     ADDI r11 = r11 + -1 -> 00000002\n",
      "0000001C: FE059CE3     BNE r11 != r0 ? True 00000014\n",
      "00000014: 02B60633     MUL r12 = r12 * r11 -> 000002D0\n",
      "00000018: FFF58593     ADDI r11 = r11 + -1 -> 00000001\n",
      "0000001C: FE059CE3     BNE r11 != r0 ? True 00000014\n",
      "00000014: 02B60633     MUL r12 = r12 * r11 -> 000002D0\n",
      "00000018: FFF58593     ADDI r11 = r11 + -1 -> 00000000\n",
      "0000001C: FE059CE3     BNE r11 != r0 ? False 00000014\n",
      "00000020: 000005B7     LUI r11 = 00000000 \n",
      "00000024: 08C5A823     SW [r11 + 144] = r12 -> [0000000000000090]=000002D0\n",
      "00000028: 0000006F     JAL pc + 0 ->  0000000000000028\n",
      "00000028: 0000006F     JAL pc + 0 ->  0000000000000028\n"
     ]
    }
   ],
   "source": [
    "js.buildInterface()"
   ]
  },
  {
   "cell_type": "code",
   "execution_count": 5,
   "id": "1247013e",
   "metadata": {},
   "outputs": [
    {
     "name": "stdout",
     "output_type": "stream",
     "text": [
      "Expected result for factorial of 6 is 720\n",
      "Computed result is 720\n"
     ]
    },
    {
     "data": {
      "application/vnd.jupyter.widget-view+json": {
       "model_id": "8533d5fd1dc74bd8b7808ca56020c3e5",
       "version_major": 2,
       "version_minor": 0
      },
      "text/plain": [
       "HTML(value='<b style=\"background-color: lightgreen; padding: 5px;\">EXERCISE PASSED!</b>')"
      ]
     },
     "metadata": {},
     "output_type": "display_data"
    }
   ],
   "source": [
    "import ipywidgets as widgets\n",
    "iv = js.mem.read_i32(0x80)\n",
    "exp = math.factorial(iv)\n",
    "v = js.mem.read_i32(0x90)\n",
    "\n",
    "print('Expected result for factorial of', iv,'is', exp)\n",
    "print('Computed result is', v)\n",
    "\n",
    "if (exp == v):\n",
    "    display(widgets.HTML('<b style=\"background-color: lightgreen; padding: 5px;\">EXERCISE PASSED!</b>'))\n",
    "else:\n",
    "    display(widgets.HTML('<b style=\"background-color: red; padding: 5px;\">EXERCISE FAILED!</b>'))"
   ]
  },
  {
   "cell_type": "code",
   "execution_count": null,
   "id": "7600e19f",
   "metadata": {},
   "outputs": [],
   "source": []
  }
 ],
 "metadata": {
  "kernelspec": {
   "display_name": "Python 3 (ipykernel)",
   "language": "python",
   "name": "python3"
  },
  "language_info": {
   "codemirror_mode": {
    "name": "ipython",
    "version": 3
   },
   "file_extension": ".py",
   "mimetype": "text/x-python",
   "name": "python",
   "nbconvert_exporter": "python",
   "pygments_lexer": "ipython3",
   "version": "3.11.5"
  }
 },
 "nbformat": 4,
 "nbformat_minor": 5
}
