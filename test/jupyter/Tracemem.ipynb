{
 "cells": [
  {
   "cell_type": "markdown",
   "id": "59040114",
   "metadata": {},
   "source": [
    "# Showing Memory Usage of C programs\n",
    "C/C++ programs use the memory of the computer in specific ways."
   ]
  },
  {
   "cell_type": "code",
   "execution_count": 1,
   "id": "dc4045d3",
   "metadata": {},
   "outputs": [
    {
     "name": "stdout",
     "output_type": "stream",
     "text": [
      "Not running in Google Colab. Skipping installation.\n"
     ]
    }
   ],
   "source": [
    "import sys\n",
    "\n",
    "if 'google.colab' in sys.modules:\n",
    "    print(\"Running in Google Colab. Installing HP Counters...\")\n",
    "    !pip install git+https://github.com/davidcastells/punxa.git\n",
    "    !pip install wavedrom\n",
    "else:\n",
    "    print(\"Not running in Google Colab. Skipping installation.\")\n",
    "    #if not('../..' in sys.path):\n",
    "    #    sys.path.append('../..')"
   ]
  },
  {
   "cell_type": "code",
   "execution_count": 2,
   "id": "4ea51936",
   "metadata": {},
   "outputs": [],
   "source": [
    "import punxa"
   ]
  },
  {
   "cell_type": "code",
   "execution_count": 7,
   "id": "90c917d6",
   "metadata": {},
   "outputs": [
    {
     "name": "stdout",
     "output_type": "stream",
     "text": [
      "Successfully read 18152 bytes from tracemem.elf\n",
      "b'\\x7fELF\\x02\\x01\\x01\\x00\\x00\\x00\\x00\\x00\\x00\\x00\\x00\\x00\\x02\\x00\\xf3\\x00'\n"
     ]
    }
   ],
   "source": [
    "import importlib.resources\n",
    "\n",
    "try:\n",
    "    binary_content = importlib.resources.files('punxa').joinpath('../test/proxykernel_software/tracemem/tracemem.elf').read_bytes()\n",
    "    # Now 'binary_content' contains the bytes of the ELF file\n",
    "    print(f\"Successfully read {len(binary_content)} bytes from tracemem.elf\")\n",
    "    # You can now process 'binary_content' as needed\n",
    "    # For example, if you wanted to just see the first few bytes:\n",
    "    print(binary_content[:20])\n",
    "except FileNotFoundError:\n",
    "    print(\"Error: The file 'tracemem.elf' was not found within the 'punxa' package structure.\")\n",
    "except ImportError:\n",
    "    print(\"Error: The 'importlib.resources' module is not available (requires Python 3.9+).\")\n",
    "except Exception as e:\n",
    "    print(f\"An error occurred: {e}\")"
   ]
  },
  {
   "cell_type": "code",
   "execution_count": 6,
   "id": "9500f680",
   "metadata": {},
   "outputs": [
    {
     "data": {
      "text/plain": [
       "WindowsPath('C:/Projects/Research/INT_RISCV/punxa/punxa')"
      ]
     },
     "execution_count": 6,
     "metadata": {},
     "output_type": "execute_result"
    }
   ],
   "source": [
    "importlib.resources.files('punxa')"
   ]
  },
  {
   "cell_type": "code",
   "execution_count": null,
   "id": "486a51f9",
   "metadata": {},
   "outputs": [],
   "source": []
  }
 ],
 "metadata": {
  "kernelspec": {
   "display_name": "Python 3 (ipykernel)",
   "language": "python",
   "name": "python3"
  },
  "language_info": {
   "codemirror_mode": {
    "name": "ipython",
    "version": 3
   },
   "file_extension": ".py",
   "mimetype": "text/x-python",
   "name": "python",
   "nbconvert_exporter": "python",
   "pygments_lexer": "ipython3",
   "version": "3.11.5"
  }
 },
 "nbformat": 4,
 "nbformat_minor": 5
}
